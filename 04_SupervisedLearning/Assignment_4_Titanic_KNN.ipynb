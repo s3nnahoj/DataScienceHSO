{
 "cells": [
  {
   "cell_type": "code",
   "execution_count": null,
   "metadata": {},
   "outputs": [],
   "source": [
    "import numpy as np\n",
    "import matplotlib.pyplot as plt\n",
    "import pandas as pd"
   ]
  },
  {
   "cell_type": "markdown",
   "metadata": {},
   "source": [
    "## Basic K-NN with Titanic DataSet\n",
    "\n",
    "https://www.kaggle.com/competitions/titanic/data"
   ]
  },
  {
   "cell_type": "code",
   "execution_count": null,
   "metadata": {},
   "outputs": [],
   "source": [
    "#get data\n",
    "!git clone https://github.com/s3nnahoj/dsLabData.git"
   ]
  },
  {
   "cell_type": "code",
   "execution_count": null,
   "metadata": {},
   "outputs": [],
   "source": [
    "DATA_FILE_TRAIN = 'dsLabData/titanic_train.csv' # we only use the annotated data yet\n",
    "df = pd.read_csv(DATA_FILE_TRAIN, header=0, index_col='PassengerId')\n",
    "df.loc[df.Age.isnull(),'Age'] = df.Age.median() # fill nan's in age"
   ]
  },
  {
   "cell_type": "code",
   "execution_count": null,
   "metadata": {},
   "outputs": [],
   "source": [
    "df.info()"
   ]
  },
  {
   "cell_type": "code",
   "execution_count": null,
   "metadata": {},
   "outputs": [],
   "source": [
    "df.head()"
   ]
  },
  {
   "cell_type": "code",
   "execution_count": null,
   "metadata": {},
   "outputs": [],
   "source": [
    "df.hist('Sex',by='Survived')"
   ]
  },
  {
   "cell_type": "code",
   "execution_count": null,
   "metadata": {},
   "outputs": [],
   "source": [
    "df.groupby('Survived').Fare.hist(legend=True, alpha =0.5)"
   ]
  },
  {
   "cell_type": "markdown",
   "metadata": {},
   "source": [
    "### Train / Test Split"
   ]
  },
  {
   "cell_type": "code",
   "execution_count": null,
   "metadata": {},
   "outputs": [],
   "source": [
    "dfTrain=df.sample(frac=0.8,random_state=42)\n",
    "dfTest=df.drop(dfTrain.index)"
   ]
  },
  {
   "cell_type": "code",
   "execution_count": null,
   "metadata": {},
   "outputs": [],
   "source": [
    "dfTest"
   ]
  },
  {
   "cell_type": "markdown",
   "metadata": {},
   "source": [
    "### KNN-Classification"
   ]
  },
  {
   "cell_type": "code",
   "execution_count": null,
   "metadata": {},
   "outputs": [],
   "source": [
    "def extractFeatureVector(dfRow):\n",
    "    gender = 0\n",
    "    if dfRow.Sex == \"female\":\n",
    "        gender = 1\n",
    "    age = (dfRow.Age - dfTrain.Age.mean()) / dfTrain.Age.std()\n",
    "    return np.array([gender,age])"
   ]
  },
  {
   "cell_type": "code",
   "execution_count": null,
   "metadata": {},
   "outputs": [],
   "source": [
    "df.loc[1]"
   ]
  },
  {
   "cell_type": "code",
   "execution_count": null,
   "metadata": {},
   "outputs": [],
   "source": [
    "extractFeatureVector(df.loc[1])"
   ]
  },
  {
   "cell_type": "code",
   "execution_count": null,
   "metadata": {},
   "outputs": [],
   "source": [
    "trainData = []\n",
    "trainLabel = []\n",
    "\n",
    "for idx, row in dfTrain.iterrows():\n",
    "    trainData.append(extractFeatureVector(row))\n",
    "    trainLabel.append(row.Survived)"
   ]
  },
  {
   "cell_type": "code",
   "execution_count": null,
   "metadata": {},
   "outputs": [],
   "source": [
    "def predict(x,k=3):\n",
    "    distances = [] #(distance,class)\n",
    "    for idx,tX in enumerate(trainData):\n",
    "        d = np.linalg.norm(tX-x,ord=1)\n",
    "        distances.append((d,trainLabel[idx]))\n",
    "    distances.sort()\n",
    "    countSurvived = 0\n",
    "    for i in range(0,k):\n",
    "        countSurvived+=distances[i][1]\n",
    "        #print(\"nn %d with distance %.2f: y=%d\" % (i,distances[i][0],distances[i][1]))\n",
    "    \n",
    "    if countSurvived >= (k/2.0):\n",
    "        return 1\n",
    "    else:\n",
    "        return 0\n"
   ]
  },
  {
   "cell_type": "code",
   "execution_count": null,
   "metadata": {},
   "outputs": [],
   "source": [
    "predict(extractFeatureVector(dfTest.iloc[0]))    "
   ]
  },
  {
   "cell_type": "markdown",
   "metadata": {},
   "source": [
    "## Evaluation"
   ]
  },
  {
   "cell_type": "code",
   "execution_count": null,
   "metadata": {},
   "outputs": [],
   "source": [
    "countCorrect = 0\n",
    "for idx, row in dfTest.iterrows():\n",
    "   result = predict(extractFeatureVector(row))\n",
    "   if result == row.Survived:\n",
    "      countCorrect+=1\n",
    "\n",
    "print(\"correct predictions: %d / %d , accuracy: %.2f \" %(countCorrect ,len(dfTest),countCorrect / len(dfTest)))"
   ]
  },
  {
   "cell_type": "code",
   "execution_count": null,
   "metadata": {},
   "outputs": [],
   "source": []
  },
  {
   "cell_type": "markdown",
   "metadata": {},
   "source": [
    "# Assignment 4 - Titanic and KNN\n",
    "\n"
   ]
  },
  {
   "cell_type": "markdown",
   "metadata": {},
   "source": [
    "1 ) Exploratory data analysis: Further explore the Titanic data set by summarizing statiscis and data visualization. In particular focus on:\n",
    "  \n",
    "  * distribution of the individual features. are they quantitative or qualitative? what about the possible range of values?\n",
    "  * class conditional distributions. how are the features distributed for the survived / not survived case. Can you related to the Baysian decision theory?\n",
    "  * which features are most discriminative?"
   ]
  },
  {
   "cell_type": "code",
   "execution_count": null,
   "metadata": {},
   "outputs": [],
   "source": []
  },
  {
   "cell_type": "code",
   "execution_count": null,
   "metadata": {},
   "outputs": [],
   "source": []
  },
  {
   "cell_type": "code",
   "execution_count": null,
   "metadata": {},
   "outputs": [],
   "source": []
  },
  {
   "cell_type": "code",
   "execution_count": null,
   "metadata": {},
   "outputs": [],
   "source": []
  },
  {
   "cell_type": "markdown",
   "metadata": {},
   "source": [
    "2) Extend the given KNN implementation by adding more features to the feature vector. Play around and evaluate your changes. Can you increase the accuracy on the given split? "
   ]
  },
  {
   "cell_type": "code",
   "execution_count": null,
   "metadata": {},
   "outputs": [],
   "source": []
  }
 ],
 "metadata": {
  "kernelspec": {
   "display_name": "Python 3 (ipykernel)",
   "language": "python",
   "name": "python3"
  },
  "language_info": {
   "codemirror_mode": {
    "name": "ipython",
    "version": 3
   },
   "file_extension": ".py",
   "mimetype": "text/x-python",
   "name": "python",
   "nbconvert_exporter": "python",
   "pygments_lexer": "ipython3",
   "version": "3.10.12"
  }
 },
 "nbformat": 4,
 "nbformat_minor": 4
}
